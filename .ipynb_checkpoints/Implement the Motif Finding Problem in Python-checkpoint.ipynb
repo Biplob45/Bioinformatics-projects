{
 "cells": [
  {
   "cell_type": "code",
   "execution_count": null,
   "metadata": {},
   "outputs": [],
   "source": []
  },
  {
   "cell_type": "code",
   "execution_count": 8,
   "metadata": {},
   "outputs": [
    {
     "name": "stdout",
     "output_type": "stream",
     "text": [
      "[23, 56, 86, 139, 217, 259, 266, 303, 310, 328, 335, 404, 412, 456, 476, 496, 503, 510, 572, 618, 633, 664, 697, 704, 735, 742, 777, 792, 800, 816, 843]\n"
     ]
    }
   ],
   "source": [
    "#Motif Finding Problem\n",
    "def finding_motif(src, mask):\n",
    "    result = []\n",
    "    mlen = len(mask)\n",
    "    slen = len(src)\n",
    "    for i in range(0, slen - mlen + 1):\n",
    "        if src[i:i+mlen] == mask:\n",
    "            result.append(i+1)        \n",
    "    return result\n",
    "\n",
    "print(finding_motif('TCGGGCGTAGTATGGGCGTAGAGGGCGTAGGGCGTAAACCGCGTCTGGGGCGTAAGGGCGTAGGGCGTATGTCAGTGGGCGTACAGGGCGTAGGGGCGTATCGTATGGGGCGTATGGGCGTAAGGGCGTAAAGTCGACGGGCGTAGGGCGTAACGGGCGTAGCGGGCGTACAGGGCGTATCGCAACGGGCGTATGGGCGTAATCGTGGGCGTAACCGGGCGTAGGGCGTATAAGGGCGTAAAGGGCGTATGATGTCTCGGGCGTAGGGCGTAGGGCGTACTAGGGGCGTACAGGGCGTACTCGGGCGTAGGGCGTAGGGCGTAAAAAGGGCGTAGGGCGTAGGGCGTATTGTAGTAAGGGCGTATTTGGGCGTAGCGGGCGTAGATGGGCGTACAGGGCGTAAGGGCGTAGGGGCGTAGGGCGTATGGGCGTAGAAGCCTAAGGGGCGTAGCCTAGGGCGTAGGGCGTAACTTTAGGGCGTAGGGCGTATGTGGCGGGCGTAGGGCGTAGGGCGTAGGGCGTAGCGCCGGGCGTATGGGCGTAAGGGCGTACGAGTGGGCGTAAGCTTTCCGGGCGTAGGGCGTACCCGGGCGTAGTCCGGGCGTAGAGGGCGTACGGGGCGTAGGGCGTAAGGGCGTAGGGCGTACGGGCGTACGGGCGTAAGGGCGTAGGGCGTAGAAACGCGGGCGTAAGTCCGGGCGTAGGGCGTAGGGCGTAGTCTTCGGGCGTATCGTGGGCGTAGGGCGTAGGGCGTAGCAGTGGGCGTATGGGCGTACGGGCGTAGGGCGTATGGGCGTAGGGGCGTAGGGCGTACAGGGCGTAGGGGCGTATCGTGGGCGTACGGGCGTAGGGCGTATGGGCGTA', 'GGGCGTAGG'))\n",
    "\n",
    "    \n",
    "    "
   ]
  },
  {
   "cell_type": "code",
   "execution_count": null,
   "metadata": {},
   "outputs": [],
   "source": []
  }
 ],
 "metadata": {
  "kernelspec": {
   "display_name": "Python 3",
   "language": "python",
   "name": "python3"
  },
  "language_info": {
   "codemirror_mode": {
    "name": "ipython",
    "version": 3
   },
   "file_extension": ".py",
   "mimetype": "text/x-python",
   "name": "python",
   "nbconvert_exporter": "python",
   "pygments_lexer": "ipython3",
   "version": "3.7.3"
  }
 },
 "nbformat": 4,
 "nbformat_minor": 2
}
